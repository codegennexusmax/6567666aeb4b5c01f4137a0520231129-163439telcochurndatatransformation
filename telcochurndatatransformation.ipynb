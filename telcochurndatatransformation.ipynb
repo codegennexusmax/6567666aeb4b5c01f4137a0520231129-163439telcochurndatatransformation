{
 "cells": [
  {
   "cell_type": "markdown",
   "id": "b0fd4bbb",
   "metadata": {},
   "source": [
    "***GENERATED CODE FOR telcochurndatatransformation PIPELINE.***"
   ]
  },
  {
   "cell_type": "markdown",
   "id": "1e2c1699",
   "metadata": {},
   "source": [
    "***DON'T EDIT THIS CODE.***"
   ]
  },
  {
   "cell_type": "markdown",
   "id": "8d6671a8",
   "metadata": {},
   "source": [
    "***CONNECTOR FUNCTIONS TO READ DATA.***"
   ]
  },
  {
   "cell_type": "code",
   "execution_count": null,
   "id": "f930b723",
   "metadata": {},
   "outputs": [],
   "source": [
    "import os\n",
    "import datetime\n",
    "import logging\n",
    "import warnings\n",
    "warnings.filterwarnings('ignore')\n",
    "logging.basicConfig(format='%(levelname)s:%(message)s', level=logging.INFO)\n",
    "\n",
    "\n",
    "class HDFSConnector:\n",
    "\n",
    "    def fetch(spark, config):\n",
    "        ################### INPUT HADOOP HOST PORT TO CONNECT WITH ###############################\n",
    "        hdfs_server = str(os.environ['HDFS_SERVER'])\n",
    "        hdfs_port = int(os.environ['HDFS_PORT'])\n",
    "        df = spark.read.options(header='true', inferschema='true').csv(\n",
    "            f\"hdfs://{hdfs_server}:{hdfs_port}{eval(config)['url']}\", header='true')\n",
    "        display(df.limit(2).toPandas())\n",
    "        return df\n",
    "\n",
    "    def put(df, spark, config):\n",
    "        return df.write.format('csv').options(header='true' if eval(config)[\"is_header\"] == \"Use Header Line\" else 'false',\n",
    "                                              delimiter=eval(config)[\"delimiter\"]).save((\"%s %s\") % (datetime.datetime.now().strftime(\"%Y-%m-%d %H.%M.%S\")+\"_\", eval(config)['url']))\n"
   ]
  },
  {
   "cell_type": "markdown",
   "id": "28bea107",
   "metadata": {},
   "source": [
    "***OPERATION FUNCTIONS***"
   ]
  },
  {
   "cell_type": "code",
   "execution_count": null,
   "id": "846d8342",
   "metadata": {},
   "outputs": [],
   "source": [
    "import pyspark\n",
    "from dask.dataframe import from_pandas\n",
    "import json\n",
    "\n",
    "\n",
    "def calculateFormula(df, functionsData, applyOn):\n",
    "    dfcp = df\n",
    "    for functionData in functionsData:\n",
    "        if functionData['useNext']:\n",
    "            if 'dataPrepColumn_Inprocess' in list(dfcp.columns):\n",
    "                dfcp['dataPrepColumn_Inprocess'] = calculateEquation(\n",
    "                    dfcp, functionData['operator'], functionData['dataPrepColumn_Inprocess'], functionData['operand2'])\n",
    "            else:\n",
    "                dfcp['dataPrepColumn_Inprocess'] = calculateEquation(\n",
    "                    dfcp, functionData['operator'], functionData['operand1'], functionData['operand2'])\n",
    "        else:\n",
    "            if 'dataPrepColumn_Inprocess' in list(dfcp.columns):\n",
    "                if functionData['outputColumn'] == \"newColumn\":\n",
    "                    newColumnName = \"New_\" + \\\n",
    "                        functionData['operand1']+\"_\" + \\\n",
    "                        functionData['operator']+\"_\"+functionData['operand2']\n",
    "                    dfcp[newColumnName] = calculateEquation(dfcp, functionData['operator'],\n",
    "                                                            functionData['dataPrepColumn_Inprocess'], functionData['operand2'])\n",
    "                else:\n",
    "                    dfcp[functionData['outputColumn']] = calculateEquation(dfcp, functionData[\n",
    "                        'operator'], functionData['dataPrepColumn_Inprocess'], functionData['operand2'])\n",
    "                dfcp.drop('dataPrepColumn_Inprocess', axis=1)\n",
    "            else:\n",
    "                if functionData['outputColumn'] == \"newColumn\":\n",
    "                    newColumnName = \"New_\" + \\\n",
    "                        functionData['operand1']+\"_\" + \\\n",
    "                        functionData['operator']+\"_\"+functionData['operand2']\n",
    "                    dfcp[newColumnName] = calculateEquation(dfcp, functionData[\n",
    "                        'operator'], functionData['operand1'], functionData['operand2'])\n",
    "                else:\n",
    "                    dfcp[functionData['outputColumn']] = calculateEquation(dfcp, functionData[\n",
    "                        'operator'], functionData['operand1'], functionData['operand2'])\n",
    "    return dfcp\n",
    "\n",
    "\n",
    "def calculateEquation(df, operator, columnA, columnB):\n",
    "    if (operator == \"add\"):\n",
    "        return df[columnA].add(df[columnB])\n",
    "    elif (operator == \"sub\"):\n",
    "        return df[columnA].sub(df[columnB])\n",
    "    elif (operator == \"mul\"):\n",
    "        return df[columnA].mul(df[columnB])\n",
    "    elif (operator == \"div\"):\n",
    "        return df[columnA].div(df[columnB])\n",
    "    elif (operator == \"mod\"):\n",
    "        return df[columnA].mod(df[columnB])\n",
    "\n",
    "\n",
    "def runDataCleansing(sparkDf, spark, config):\n",
    "    configObj = json.loads(config)\n",
    "    sparkDf.persist(pyspark.StorageLevel.MEMORY_AND_DISK)\n",
    "    df = from_pandas((sparkDf.toPandas()), npartitions=5)\n",
    "    functionList = configObj['functionsApplied']\n",
    "    Data_Cleansing_Methods = {\"replaceBy\": replaceValues,\n",
    "                              \"formula\": calculateFormula,\n",
    "                              \"aggregate\": aggregation,\n",
    "                              \"converttostringtype\": changeToString,\n",
    "                              \"editname\": renameColumns}\n",
    "    for function in functionList:\n",
    "        function['functionName']\n",
    "        df = Data_Cleansing_Methods[function['functionName']](df, function['functionsData'],\n",
    "                                                              function['applyOn'])\n",
    "    sparkDf = spark.createDataFrame(df.compute())\n",
    "\n",
    "    display(sparkDf.limit(2).toPandas())\n",
    "    return sparkDf\n"
   ]
  },
  {
   "cell_type": "markdown",
   "id": "97c86495",
   "metadata": {},
   "source": [
    "***CONNECTOR FUNCTIONS TO WRITE DATA.***"
   ]
  },
  {
   "cell_type": "code",
   "execution_count": null,
   "id": "511134dc",
   "metadata": {},
   "outputs": [],
   "source": [
    "import datetime\n",
    "import requests\n",
    "import datetime\n",
    "import logging\n",
    "import warnings\n",
    "warnings.filterwarnings('ignore')\n",
    "logging.basicConfig(format='%(levelname)s:%(message)s', level=logging.INFO)\n",
    "\n",
    "\n",
    "class NumtraConnector:\n",
    "\n",
    "    def put(inStages, inStagesData, stageId, spark, config):\n",
    "        path = eval(config)['server_url']\n",
    "        baseType = eval(config)['baseType']\n",
    "        results_url = eval(config)['results_url']\n",
    "        server = eval(config)['server']\n",
    "        originalfile = eval(config)['orignalKey']\n",
    "        eval(config)['pathOnly']\n",
    "        filename = eval(config)['filename']\n",
    "        eval(config)['ser']\n",
    "        eval(config)['user']\n",
    "        eval(config)['password']\n",
    "        eval(config)['authSource']\n",
    "        eval(config)['user_id']\n",
    "        eval(config)['parent_id']\n",
    "        eval(config)['project_id']\n",
    "        time = str(int(datetime.datetime.now().timestamp()))\n",
    "\n",
    "        inStagesData[inStages[0]]\n",
    "\n",
    "        print(path)\n",
    "        print(baseType)\n",
    "        print(results_url)\n",
    "        print(server)\n",
    "        print(originalfile)\n",
    "        print(filename)\n",
    "\n",
    "        args = {\n",
    "            'url': path,\n",
    "            'baseType': baseType,\n",
    "            'originalfile': originalfile,\n",
    "            'filename': time + filename\n",
    "        }\n",
    "\n",
    "        response = requests.post(results_url, args)\n",
    "        return response\n"
   ]
  },
  {
   "cell_type": "markdown",
   "id": "edd39ff2",
   "metadata": {},
   "source": [
    "***READING DATAFRAME***"
   ]
  },
  {
   "cell_type": "code",
   "execution_count": null,
   "id": "b4116635",
   "metadata": {},
   "outputs": [],
   "source": [
    "############## CREATE SPARK SESSION ############################ ENTER YOUR SPARK MASTER IP AND PORT TO CONNECT TO SERVER ################\n",
    "from pyspark.sql import SparkSession\n",
    "spark = SparkSession.builder.master('local[1]').getOrCreate()\n",
    "#%run telcochurndatatransformationHooks.ipynb\n",
    "try:\n",
    "\t#sourcePreExecutionHook()\n",
    "\n",
    "\ttelcocutomerchurntetl = HDFSConnector.fetch(spark, \"{'url': '/FileStore/platform/testdata/1701275394466_Telco_Customer_Churn_TestL.csv', 'filename': 'Telco_Customer_Churn_TestL.csv', 'delimiter': ',', 'file_type': 'Delimeted', 'dbfs_token': '', 'dbfs_domain': '', 'FilePath': '/Retail And Marketing/Telco Churn/Telco_Customer_Churn_TestL.csv', 'viewFileName': 'Telco_Customer_Churn_TestL.csv', 'is_header': 'Use Header Line', 'baseType': 'hdfs', 'server_url': '/numtraPlatform/NumtraPlatformV3/uploads/platform/', 'results_url': 'http://mluat.numtra.com:44040/api/read/hdfs'}\")\n",
    "\n",
    "except Exception as ex: \n",
    "\tlogging.error(ex)\n",
    "#spark.stop()\n"
   ]
  },
  {
   "cell_type": "markdown",
   "id": "5c18b11b",
   "metadata": {},
   "source": [
    "***PERFORMING OPERATIONS***"
   ]
  },
  {
   "cell_type": "code",
   "execution_count": null,
   "id": "00d5de34",
   "metadata": {},
   "outputs": [],
   "source": [
    "#%run telcochurndatatransformationHooks.ipynb\n",
    "try:\n",
    "\t#operationPreExecutionHook()\n",
    "\n",
    "datapreparation = runDataCleansing(telcocutomerchurntetl,spark,json.dumps( {\"url\": \"/FileStore/platform/testdata/1701275394466_Telco_Customer_Churn_TestL.csv\", \"source_attributes\": {}, \"DataPrepFile\": \"/FileStore/platform/testdata/1701275394466_Telco_Customer_Churn_TestL.csv\", \"data_source\": \"platfiles\", \"startListenerOnly\": 1, \"dateColumnNames\": [], \"FilePath\": \"/FileStore/platform/extra/65676676eb4b5c01f4137a1b1701275554/0part.csv\", \"requestRatio\": 0.0, \"totalRows\": 30, \"BasicStats\": {\"missingValues\": 0.0, \"numberOfColumns\": 22, \"numberOfRows\": 30, \"duplicateRowCount\": 0, \"stats\": [{\"column\": \"customerID\", \"alias\": \"customerID\", \"generated\": 0, \"type\": \"String\", \"max\": \"9959-WOFKT\", \"min\": \"0280-XJGEX\", \"mean\": \"\", \"missing\": 0.0, \"stddev\": \"\", \"outliers\": [], \"validation\": []}, {\"column\": \"gender\", \"alias\": \"gender\", \"generated\": 0, \"type\": \"String\", \"max\": \"Male\", \"min\": \"Female\", \"mean\": \"\", \"missing\": 0.0, \"stddev\": \"\", \"outliers\": [], \"validation\": []}, {\"column\": \"SeniorCitizen\", \"alias\": \"SeniorCitizen\", \"generated\": 0, \"type\": \"numeric\", \"max\": 1, \"min\": 0, \"mean\": 0.03333333333333333, \"missing\": 0.0, \"stddev\": 0.18, \"outliers\": [1], \"validation\": []}, {\"column\": \"Partner\", \"alias\": \"Partner\", \"generated\": 0, \"type\": \"String\", \"max\": \"Yes\", \"min\": \"No\", \"mean\": \"\", \"missing\": 0.0, \"stddev\": \"\", \"outliers\": [], \"validation\": []}, {\"column\": \"Dependents\", \"alias\": \"Dependents\", \"generated\": 0, \"type\": \"String\", \"max\": \"Yes\", \"min\": \"No\", \"mean\": \"\", \"missing\": 0.0, \"stddev\": \"\", \"outliers\": [], \"validation\": []}, {\"column\": \"tenure\", \"alias\": \"tenure\", \"generated\": 0, \"type\": \"numeric\", \"max\": 72, \"min\": 1, \"mean\": 29.533333333333335, \"missing\": 0.0, \"stddev\": 23.97, \"outliers\": [], \"validation\": []}, {\"column\": \"PhoneService\", \"alias\": \"PhoneService\", \"generated\": 0, \"type\": \"String\", \"max\": \"Yes\", \"min\": \"No\", \"mean\": \"\", \"missing\": 0.0, \"stddev\": \"\", \"outliers\": [], \"validation\": []}, {\"column\": \"MultipleLines\", \"alias\": \"MultipleLines\", \"generated\": 0, \"type\": \"String\", \"max\": \"Yes\", \"min\": \"No\", \"mean\": \"\", \"missing\": 0.0, \"stddev\": \"\", \"outliers\": [], \"validation\": []}, {\"column\": \"InternetService\", \"alias\": \"InternetService\", \"generated\": 0, \"type\": \"String\", \"max\": \"No\", \"min\": \"DSL\", \"mean\": \"\", \"missing\": 0.0, \"stddev\": \"\", \"outliers\": [], \"validation\": []}, {\"column\": \"OnlineSecurity\", \"alias\": \"OnlineSecurity\", \"generated\": 0, \"type\": \"String\", \"max\": \"Yes\", \"min\": \"No\", \"mean\": \"\", \"missing\": 0.0, \"stddev\": \"\", \"outliers\": [], \"validation\": []}, {\"column\": \"OnlineBackup\", \"alias\": \"OnlineBackup\", \"generated\": 0, \"type\": \"String\", \"max\": \"Yes\", \"min\": \"No\", \"mean\": \"\", \"missing\": 0.0, \"stddev\": \"\", \"outliers\": [], \"validation\": []}, {\"column\": \"DeviceProtection\", \"alias\": \"DeviceProtection\", \"generated\": 0, \"type\": \"String\", \"max\": \"Yes\", \"min\": \"No\", \"mean\": \"\", \"missing\": 0.0, \"stddev\": \"\", \"outliers\": [], \"validation\": []}, {\"column\": \"TechSupport\", \"alias\": \"TechSupport\", \"generated\": 0, \"type\": \"String\", \"max\": \"Yes\", \"min\": \"No\", \"mean\": \"\", \"missing\": 0.0, \"stddev\": \"\", \"outliers\": [], \"validation\": []}, {\"column\": \"StreamingTV\", \"alias\": \"StreamingTV\", \"generated\": 0, \"type\": \"String\", \"max\": \"Yes\", \"min\": \"No\", \"mean\": \"\", \"missing\": 0.0, \"stddev\": \"\", \"outliers\": [], \"validation\": []}, {\"column\": \"StreamingMovies\", \"alias\": \"StreamingMovies\", \"generated\": 0, \"type\": \"String\", \"max\": \"Yes\", \"min\": \"No\", \"mean\": \"\", \"missing\": 0.0, \"stddev\": \"\", \"outliers\": [], \"validation\": []}, {\"column\": \"Contract\", \"alias\": \"Contract\", \"generated\": 0, \"type\": \"String\", \"max\": \"Two year\", \"min\": \"Month-to-month\", \"mean\": \"\", \"missing\": 0.0, \"stddev\": \"\", \"outliers\": [], \"validation\": []}, {\"column\": \"PaperlessBilling\", \"alias\": \"PaperlessBilling\", \"generated\": 0, \"type\": \"String\", \"max\": \"Yes\", \"min\": \"No\", \"mean\": \"\", \"missing\": 0.0, \"stddev\": \"\", \"outliers\": [], \"validation\": []}, {\"column\": \"PaymentMethod\", \"alias\": \"PaymentMethod\", \"generated\": 0, \"type\": \"String\", \"max\": \"Mailed check\", \"min\": \"Bank transfer (automatic)\", \"mean\": \"\", \"missing\": 0.0, \"stddev\": \"\", \"outliers\": [], \"validation\": []}, {\"column\": \"MonthlyCharges\", \"alias\": \"MonthlyCharges\", \"generated\": 0, \"type\": \"real\", \"max\": 113.25, \"min\": 18.95, \"mean\": 64.54333333333334, \"missing\": 0.0, \"stddev\": 31.08, \"outliers\": [], \"validation\": []}, {\"column\": \"TotalCharges\", \"alias\": \"TotalCharges\", \"generated\": 0, \"type\": \"real\", \"max\": 7895.15, \"min\": 20.15, \"mean\": 2238.1650000000004, \"missing\": 0.0, \"stddev\": 2330.22, \"outliers\": [7895.15, 7382.25], \"validation\": []}, {\"column\": \"Churn\", \"alias\": \"Churn\", \"generated\": 0, \"type\": \"String\", \"max\": \"Yes\", \"min\": \"No\", \"mean\": \"\", \"missing\": 0.0, \"stddev\": \"\", \"outliers\": [], \"validation\": []}, {\"column\": \"NewTotalCharges\", \"alias\": \"NewTotalCharges\", \"generated\": 1, \"type\": \"real\", \"max\": 7781.9, \"min\": 0.0, \"mean\": 2173.621666666667, \"missing\": 0.0, \"stddev\": 2307.3, \"outliers\": [7781.9, 7275.55], \"validation\": []}]}, \"predictionPowerScore\": [{\"Churn\": 1.0, \"Contract\": 0.3129960317, \"Dependents\": 0.0, \"DeviceProtection\": 0.0, \"InternetService\": 0.0, \"MonthlyCharges\": 0.0, \"MultipleLines\": 0.0, \"NewTotalCharges\": 0.1129599567, \"OnlineBackup\": 0.0, \"OnlineSecurity\": 0.4012896825, \"PaperlessBilling\": 0.0, \"Partner\": 0.0, \"PaymentMethod\": 0.0827922078, \"PhoneService\": 0.0, \"SeniorCitizen\": 0.0, \"StreamingMovies\": 0.0, \"StreamingTV\": 0.0, \"TechSupport\": 0.0, \"TotalCharges\": 0.0, \"customerID\": 0.0, \"gender\": 0.0, \"tenure\": 0.0}, {\"Churn\": 0.003800344, \"Contract\": 1.0, \"Dependents\": 0.003800344, \"DeviceProtection\": 0.0388939269, \"InternetService\": 0.0388939269, \"MonthlyCharges\": 0.0402436801, \"MultipleLines\": 0.0, \"NewTotalCharges\": 0.2236874088, \"OnlineBackup\": 0.0388939269, \"OnlineSecurity\": 0.0388939269, \"PaperlessBilling\": 0.0, \"Partner\": 0.003800344, \"PaymentMethod\": 0.11571884, \"PhoneService\": 0.003800344, \"SeniorCitizen\": 0.003800344, \"StreamingMovies\": 0.0388939269, \"StreamingTV\": 0.0388939269, \"TechSupport\": 0.0388939269, \"TotalCharges\": 0.1481830335, \"customerID\": 0.0, \"gender\": 0.003800344, \"tenure\": 0.383380935}, {\"Churn\": 0.0, \"Contract\": 0.0, \"Dependents\": 1.0, \"DeviceProtection\": 0.0103021978, \"InternetService\": 0.0, \"MonthlyCharges\": 0.0, \"MultipleLines\": 0.0, \"NewTotalCharges\": 0.0, \"OnlineBackup\": 0.0, \"OnlineSecurity\": 0.0, \"PaperlessBilling\": 0.0, \"Partner\": 0.0, \"PaymentMethod\": 0.0, \"PhoneService\": 0.0, \"SeniorCitizen\": 0.0, \"StreamingMovies\": 0.0, \"StreamingTV\": 0.0, \"TechSupport\": 0.0, \"TotalCharges\": 0.0, \"customerID\": 0.0, \"gender\": 0.0, \"tenure\": 0.0}, {\"Churn\": 0.0, \"Contract\": 0.1563369666, \"Dependents\": 0.3441413497, \"DeviceProtection\": 1.0, \"InternetService\": 0.6323341837, \"MonthlyCharges\": 0.4399350649, \"MultipleLines\": 0.2226345083, \"NewTotalCharges\": 0.2045164657, \"OnlineBackup\": 0.6068577999, \"OnlineSecurity\": 0.192775974, \"PaperlessBilling\": 0.2653061224, \"Partner\": 0.0874532664, \"PaymentMethod\": 0.0500637755, \"PhoneService\": 0.0, \"SeniorCitizen\": 0.0, \"StreamingMovies\": 0.7723504174, \"StreamingTV\": 0.6066645408, \"TechSupport\": 0.5493100649, \"TotalCharges\": 0.2523480983, \"customerID\": 0.0, \"gender\": 0.0470041322, \"tenure\": 0.0769944341}, {\"Churn\": 0.0, \"Contract\": 0.0, \"Dependents\": 0.0, \"DeviceProtection\": 0.5253476391, \"InternetService\": 1.0, \"MonthlyCharges\": 0.8075480192, \"MultipleLines\": 0.3595199443, \"NewTotalCharges\": 0.018757503, \"OnlineBackup\": 0.1202253629, \"OnlineSecurity\": 0.268907563, \"PaperlessBilling\": 0.0, \"Partner\": 0.0, \"PaymentMethod\": 0.0273859544, \"PhoneService\": 0.0, \"SeniorCitizen\": 0.0, \"StreamingMovies\": 0.7085084034, \"StreamingTV\": 0.7524009604, \"TechSupport\": 0.0, \"TotalCharges\": 0.0891356543, \"customerID\": 0.0, \"gender\": 0.0, \"tenure\": 0.0}, {\"Churn\": 0.0, \"Contract\": 0.0, \"Dependents\": 0.0, \"DeviceProtection\": 0.2918099548, \"InternetService\": 0.6323127109, \"MonthlyCharges\": 1.0, \"MultipleLines\": 0.4614426385, \"NewTotalCharges\": 0.2362999331, \"OnlineBackup\": 0.107386523, \"OnlineSecurity\": 0.1247988886, \"PaperlessBilling\": 0.0, \"Partner\": 0.0, \"PaymentMethod\": 0.0, \"PhoneService\": 0.0458689085, \"SeniorCitizen\": 0.0, \"StreamingMovies\": 0.5348315004, \"StreamingTV\": 0.6124661884, \"TechSupport\": 0.0185812306, \"TotalCharges\": 0.2296055105, \"customerID\": 0.0, \"gender\": 0.0, \"tenure\": 0.0}, {\"Churn\": 0.0, \"Contract\": 0.2271825397, \"Dependents\": 0.0, \"DeviceProtection\": 0.2575821995, \"InternetService\": 0.341889881, \"MonthlyCharges\": 0.6645644369, \"MultipleLines\": 1.0, \"NewTotalCharges\": 0.3836805556, \"OnlineBackup\": 0.0, \"OnlineSecurity\": 0.2454943783, \"PaperlessBilling\": 0.0, \"Partner\": 0.1474905303, \"PaymentMethod\": 0.0348462302, \"PhoneService\": 0.2452651515, \"SeniorCitizen\": 0.0, \"StreamingMovies\": 0.3482142857, \"StreamingTV\": 0.4527116402, \"TechSupport\": 0.0, \"TotalCharges\": 0.3709254535, \"customerID\": 0.0, \"gender\": 0.0, \"tenure\": 0.0}, {\"Churn\": 0.0, \"Contract\": 0.0, \"Dependents\": 0.0, \"DeviceProtection\": 0.0, \"InternetService\": 0.0657943778, \"MonthlyCharges\": 0.255008826, \"MultipleLines\": 0.2513772205, \"NewTotalCharges\": 1.0, \"OnlineBackup\": 0.0484477466, \"OnlineSecurity\": 0.0, \"PaperlessBilling\": 0.0, \"Partner\": 0.0, \"PaymentMethod\": 0.0, \"PhoneService\": 0.0, \"SeniorCitizen\": 0.0, \"StreamingMovies\": 0.0898354256, \"StreamingTV\": 0.1327973443, \"TechSupport\": 0.0, \"TotalCharges\": 0.9134735652, \"customerID\": 0.0, \"gender\": 0.0, \"tenure\": 0.4322670247}, {\"Churn\": 0.0, \"Contract\": 0.0, \"Dependents\": 0.0, \"DeviceProtection\": 0.5424284297, \"InternetService\": 0.1511479592, \"MonthlyCharges\": 0.3847789116, \"MultipleLines\": 0.0950963719, \"NewTotalCharges\": 0.0, \"OnlineBackup\": 1.0, \"OnlineSecurity\": 0.0, \"PaperlessBilling\": 0.0, \"Partner\": 0.1469494048, \"PaymentMethod\": 0.088978647, \"PhoneService\": 0.0, \"SeniorCitizen\": 0.0, \"StreamingMovies\": 0.3754960317, \"StreamingTV\": 0.0469812925, \"TechSupport\": 0.0, \"TotalCharges\": 0.0, \"customerID\": 0.0, \"gender\": 0.0, \"tenure\": 0.0}, {\"Churn\": 0.3908431794, \"Contract\": 0.0963345865, \"Dependents\": 0.0, \"DeviceProtection\": 0.1451640465, \"InternetService\": 0.5190655209, \"MonthlyCharges\": 0.3241138561, \"MultipleLines\": 0.0891514501, \"NewTotalCharges\": 0.0, \"OnlineBackup\": 0.1451640465, \"OnlineSecurity\": 1.0, \"PaperlessBilling\": 0.2659774436, \"Partner\": 0.0, \"PaymentMethod\": 0.3088748657, \"PhoneService\": 0.0, \"SeniorCitizen\": 0.0, \"StreamingMovies\": 0.2505492628, \"StreamingTV\": 0.0083243824, \"TechSupport\": 0.4008458647, \"TotalCharges\": 0.0262486574, \"customerID\": 0.0, \"gender\": 0.2472811493, \"tenure\": 0.0}, {\"Churn\": 0.212797619, \"Contract\": 0.5625, \"Dependents\": 0.2336309524, \"DeviceProtection\": 0.2530438312, \"InternetService\": 0.1109983766, \"MonthlyCharges\": 0.2876420455, \"MultipleLines\": 0.0320616883, \"NewTotalCharges\": 0.0, \"OnlineBackup\": 0.1361607143, \"OnlineSecurity\": 0.4787946429, \"PaperlessBilling\": 1.0, \"Partner\": 0.0, \"PaymentMethod\": 0.3355654762, \"PhoneService\": 0.0, \"SeniorCitizen\": 0.0, \"StreamingMovies\": 0.1109983766, \"StreamingTV\": 0.0574269481, \"TechSupport\": 0.1816152597, \"TotalCharges\": 0.0, \"customerID\": 0.0, \"gender\": 0.1462053571, \"tenure\": 0.0}, {\"Churn\": 0.0, \"Contract\": 0.0, \"Dependents\": 0.0675730519, \"DeviceProtection\": 0.0, \"InternetService\": 0.0, \"MonthlyCharges\": 0.0, \"MultipleLines\": 0.0850243506, \"NewTotalCharges\": 0.0885416667, \"OnlineBackup\": 0.0913305445, \"OnlineSecurity\": 0.0, \"PaperlessBilling\": 0.0, \"Partner\": 1.0, \"PaymentMethod\": 0.34375, \"PhoneService\": 0.0, \"SeniorCitizen\": 0.0, \"StreamingMovies\": 0.0, \"StreamingTV\": 0.0, \"TechSupport\": 0.4748883929, \"TotalCharges\": 0.2652529762, \"customerID\": 0.0, \"gender\": 0.0, \"tenure\": 0.0}, {\"Churn\": 0.0, \"Contract\": 0.1246355685, \"Dependents\": 0.0, \"DeviceProtection\": 0.0, \"InternetService\": 0.0, \"MonthlyCharges\": 0.0, \"MultipleLines\": 0.0230199223, \"NewTotalCharges\": 0.0317662779, \"OnlineBackup\": 0.0, \"OnlineSecurity\": 0.0, \"PaperlessBilling\": 0.0, \"Partner\": 0.0, \"PaymentMethod\": 1.0, \"PhoneService\": 0.0, \"SeniorCitizen\": 0.0, \"StreamingMovies\": 0.0, \"StreamingTV\": 0.0, \"TechSupport\": 0.0161564626, \"TotalCharges\": 0.0377186589, \"customerID\": 0.0, \"gender\": 0.0, \"tenure\": 0.0}, {\"Churn\": 0.0, \"Contract\": 0.0, \"Dependents\": 0.0, \"DeviceProtection\": 0.0, \"InternetService\": 0.0, \"MonthlyCharges\": 1.0, \"MultipleLines\": 1.0, \"NewTotalCharges\": 0.1973651349, \"OnlineBackup\": 0.0, \"OnlineSecurity\": 0.0, \"PaperlessBilling\": 0.0, \"Partner\": 0.0, \"PaymentMethod\": 0.0, \"PhoneService\": 1.0, \"SeniorCitizen\": 0.0, \"StreamingMovies\": 0.0, \"StreamingTV\": 0.0, \"TechSupport\": 0.0, \"TotalCharges\": 0.0507201132, \"customerID\": 0.0, \"gender\": 0.0, \"tenure\": 0.2180735931}, {\"Churn\": 0.0, \"Contract\": 0.0, \"Dependents\": 0.0, \"DeviceProtection\": 0.0, \"InternetService\": 0.0, \"MonthlyCharges\": 0.0, \"MultipleLines\": 0.0, \"NewTotalCharges\": 0.0, \"OnlineBackup\": 0.0, \"OnlineSecurity\": 0.0, \"PaperlessBilling\": 0.0, \"Partner\": 0.0, \"PaymentMethod\": 0.0, \"PhoneService\": 0.0, \"SeniorCitizen\": 1.0, \"StreamingMovies\": 0.0, \"StreamingTV\": 0.0, \"TechSupport\": 0.0, \"TotalCharges\": 0.0, \"customerID\": 0.0, \"gender\": 0.0, \"tenure\": 0.0}, {\"Churn\": 0.2549109892, \"Contract\": 0.0327124384, \"Dependents\": 0.0, \"DeviceProtection\": 0.7640196165, \"InternetService\": 0.7552706427, \"MonthlyCharges\": 0.7564650591, \"MultipleLines\": 0.443976513, \"NewTotalCharges\": 0.3811109034, \"OnlineBackup\": 0.3712944229, \"OnlineSecurity\": 0.5016108814, \"PaperlessBilling\": 0.1176438248, \"Partner\": 0.0, \"PaymentMethod\": 0.0926669159, \"PhoneService\": 0.0758543719, \"SeniorCitizen\": 0.0, \"StreamingMovies\": 1.0, \"StreamingTV\": 0.8334469564, \"TechSupport\": 0.179623358, \"TotalCharges\": 0.3959277138, \"customerID\": 0.0, \"gender\": 0.0, \"tenure\": 0.0100354797}, {\"Churn\": 0.0, \"Contract\": 0.0, \"Dependents\": 0.0, \"DeviceProtection\": 0.5514278628, \"InternetService\": 0.7744708995, \"MonthlyCharges\": 0.8322940287, \"MultipleLines\": 0.5303760393, \"NewTotalCharges\": 0.4022463152, \"OnlineBackup\": 0.1691017316, \"OnlineSecurity\": 0.1373556999, \"PaperlessBilling\": 0.0, \"Partner\": 0.0, \"PaymentMethod\": 0.0, \"PhoneService\": 0.0, \"SeniorCitizen\": 0.0, \"StreamingMovies\": 0.8288690476, \"StreamingTV\": 1.0, \"TechSupport\": 0.1101791727, \"TotalCharges\": 0.4694940476, \"customerID\": 0.0, \"gender\": 0.0, \"tenure\": 0.0011337868}, {\"Churn\": 0.0, \"Contract\": 0.0382761769, \"Dependents\": 0.0, \"DeviceProtection\": 0.29296875, \"InternetService\": 0.29296875, \"MonthlyCharges\": 0.4450866284, \"MultipleLines\": 0.0, \"NewTotalCharges\": 0.0113708836, \"OnlineBackup\": 0.29296875, \"OnlineSecurity\": 0.29296875, \"PaperlessBilling\": 0.0, \"Partner\": 0.0656579748, \"PaymentMethod\": 0.3401227679, \"PhoneService\": 0.0, \"SeniorCitizen\": 0.0, \"StreamingMovies\": 0.29296875, \"StreamingTV\": 0.29296875, \"TechSupport\": 1.0, \"TotalCharges\": 0.0, \"customerID\": 0.0, \"gender\": 0.0, \"tenure\": 0.0}, {\"Churn\": 0.0, \"Contract\": 0.0, \"Dependents\": 0.0, \"DeviceProtection\": 0.0, \"InternetService\": 0.0730169888, \"MonthlyCharges\": 0.2632502585, \"MultipleLines\": 0.2547139212, \"NewTotalCharges\": 0.9116348107, \"OnlineBackup\": 0.0510805934, \"OnlineSecurity\": 0.0, \"PaperlessBilling\": 0.0, \"Partner\": 0.0, \"PaymentMethod\": 0.0, \"PhoneService\": 0.0, \"SeniorCitizen\": 0.0, \"StreamingMovies\": 0.0961660541, \"StreamingTV\": 0.1394636255, \"TechSupport\": 0.0, \"TotalCharges\": 1.0, \"customerID\": 0.0, \"gender\": 0.0, \"tenure\": 0.4217393885}, {\"Churn\": 0.0, \"Contract\": 0.0, \"Dependents\": 0.0, \"DeviceProtection\": 0.0, \"InternetService\": 0.0, \"MonthlyCharges\": 0.0, \"MultipleLines\": 0.0, \"NewTotalCharges\": 0.0, \"OnlineBackup\": 0.0, \"OnlineSecurity\": 0.0, \"PaperlessBilling\": 0.0, \"Partner\": 0.0, \"PaymentMethod\": 0.0, \"PhoneService\": 0.0, \"SeniorCitizen\": 0.0, \"StreamingMovies\": 0.0, \"StreamingTV\": 0.0, \"TechSupport\": 0.0, \"TotalCharges\": 0.0, \"customerID\": 1.0, \"gender\": 0.0, \"tenure\": 0.0}, {\"Churn\": 0.0, \"Contract\": 0.0, \"Dependents\": 0.0, \"DeviceProtection\": 0.0, \"InternetService\": 0.0, \"MonthlyCharges\": 0.3911830357, \"MultipleLines\": 0.0, \"NewTotalCharges\": 0.0357142857, \"OnlineBackup\": 0.0, \"OnlineSecurity\": 0.1889880952, \"PaperlessBilling\": 0.0255837912, \"Partner\": 0.0, \"PaymentMethod\": 0.0, \"PhoneService\": 0.0, \"SeniorCitizen\": 0.0, \"StreamingMovies\": 0.0, \"StreamingTV\": 0.0, \"TechSupport\": 0.0, \"TotalCharges\": 0.0, \"customerID\": 0.0, \"gender\": 1.0, \"tenure\": 0.3790584416}, {\"Churn\": 0.060118572, \"Contract\": 0.2143974577, \"Dependents\": 0.0, \"DeviceProtection\": 0.0, \"InternetService\": 0.0, \"MonthlyCharges\": 0.0, \"MultipleLines\": 0.1066613551, \"NewTotalCharges\": 0.5710784314, \"OnlineBackup\": 0.0, \"OnlineSecurity\": 0.007711039, \"PaperlessBilling\": 0.000446653, \"Partner\": 0.0, \"PaymentMethod\": 0.0959237862, \"PhoneService\": 0.0, \"SeniorCitizen\": 0.0, \"StreamingMovies\": 0.0, \"StreamingTV\": 0.0, \"TechSupport\": 0.0, \"TotalCharges\": 0.4990808824, \"customerID\": 0.0, \"gender\": 0.0, \"tenure\": 1.0}], \"HasBasicStats\": 1, \"functionsApplied\": [{\"functionName\": \"formula\", \"applyOn\": [{\"columnName\": \"TotalCharges\", \"type\": \"real\", \"min\": \"20.1\", \"max\": \"7895.1\", \"mean\": \"2238.2\"}, {\"columnName\": \"MonthlyCharges\", \"type\": \"real\", \"min\": \"18.9\", \"max\": \"113.3\", \"mean\": \"64.5\"}], \"functionsData\": [{\"operand1\": \"TotalCharges\", \"operator\": \"sub\", \"operand2\": \"MonthlyCharges\", \"outputColumn\": \"newColumn\", \"useNext\": 0, \"column\": [{\"Columndata\": {\"columnName\": \"TotalCharges\", \"type\": \"real\", \"min\": \"20.1\", \"max\": \"7895.1\", \"mean\": \"2238.2\"}}, {\"Columndata\": {\"columnName\": \"MonthlyCharges\", \"type\": \"real\", \"min\": \"18.9\", \"max\": \"113.3\", \"mean\": \"64.5\"}}, {\"Columndata\": \"\"}], \"newColumnName\": \"NewTotalCharges\"}]}], \"functionChanges\": [{\"columnName\": \"TotalCharges\", \"functionName\": \"Formula\", \"Type\": \"real\", \"Parameters\": [{\"operand1\": \"TotalCharges\", \"operator\": \"sub\", \"operand2\": \"MonthlyCharges\", \"outputColumn\": \"newColumn\", \"useNext\": 0, \"column\": [{\"Columndata\": {\"columnName\": \"TotalCharges\", \"type\": \"real\", \"min\": \"20.1\", \"max\": \"7895.1\", \"mean\": \"2238.2\"}}, {\"Columndata\": {\"columnName\": \"MonthlyCharges\", \"type\": \"real\", \"min\": \"18.9\", \"max\": \"113.3\", \"mean\": \"64.5\"}}, {\"Columndata\": \"\"}], \"newColumnName\": \"NewTotalCharges\"}]}, {\"columnName\": \"MonthlyCharges\", \"functionName\": \"Formula\", \"Type\": \"real\", \"Parameters\": [{\"operand1\": \"TotalCharges\", \"operator\": \"sub\", \"operand2\": \"MonthlyCharges\", \"outputColumn\": \"newColumn\", \"useNext\": 0, \"column\": [{\"Columndata\": {\"columnName\": \"TotalCharges\", \"type\": \"real\", \"min\": \"20.1\", \"max\": \"7895.1\", \"mean\": \"2238.2\"}}, {\"Columndata\": {\"columnName\": \"MonthlyCharges\", \"type\": \"real\", \"min\": \"18.9\", \"max\": \"113.3\", \"mean\": \"64.5\"}}, {\"Columndata\": \"\"}], \"newColumnName\": \"NewTotalCharges\"}]}], \"fileheader\": [{\"field\": \"customerID\", \"alias\": \"customerID\", \"generated\": 0, \"position\": 1, \"type\": \"String\"}, {\"field\": \"gender\", \"alias\": \"gender\", \"generated\": 0, \"position\": 2, \"type\": \"String\"}, {\"field\": \"SeniorCitizen\", \"alias\": \"SeniorCitizen\", \"generated\": 0, \"position\": 3, \"type\": \"numeric\"}, {\"field\": \"Partner\", \"alias\": \"Partner\", \"generated\": 0, \"position\": 4, \"type\": \"String\"}, {\"field\": \"Dependents\", \"alias\": \"Dependents\", \"generated\": 0, \"position\": 5, \"type\": \"String\"}, {\"field\": \"tenure\", \"alias\": \"tenure\", \"generated\": 0, \"position\": 6, \"type\": \"numeric\"}, {\"field\": \"PhoneService\", \"alias\": \"PhoneService\", \"generated\": 0, \"position\": 7, \"type\": \"String\"}, {\"field\": \"MultipleLines\", \"alias\": \"MultipleLines\", \"generated\": 0, \"position\": 8, \"type\": \"String\"}, {\"field\": \"InternetService\", \"alias\": \"InternetService\", \"generated\": 0, \"position\": 9, \"type\": \"String\"}, {\"field\": \"OnlineSecurity\", \"alias\": \"OnlineSecurity\", \"generated\": 0, \"position\": 10, \"type\": \"String\"}, {\"field\": \"OnlineBackup\", \"alias\": \"OnlineBackup\", \"generated\": 0, \"position\": 11, \"type\": \"String\"}, {\"field\": \"DeviceProtection\", \"alias\": \"DeviceProtection\", \"generated\": 0, \"position\": 12, \"type\": \"String\"}, {\"field\": \"TechSupport\", \"alias\": \"TechSupport\", \"generated\": 0, \"position\": 13, \"type\": \"String\"}, {\"field\": \"StreamingTV\", \"alias\": \"StreamingTV\", \"generated\": 0, \"position\": 14, \"type\": \"String\"}, {\"field\": \"StreamingMovies\", \"alias\": \"StreamingMovies\", \"generated\": 0, \"position\": 15, \"type\": \"String\"}, {\"field\": \"Contract\", \"alias\": \"Contract\", \"generated\": 0, \"position\": 16, \"type\": \"String\"}, {\"field\": \"PaperlessBilling\", \"alias\": \"PaperlessBilling\", \"generated\": 0, \"position\": 17, \"type\": \"String\"}, {\"field\": \"PaymentMethod\", \"alias\": \"PaymentMethod\", \"generated\": 0, \"position\": 18, \"type\": \"String\"}, {\"field\": \"MonthlyCharges\", \"alias\": \"MonthlyCharges\", \"generated\": 0, \"position\": 19, \"type\": \"real\"}, {\"field\": \"TotalCharges\", \"alias\": \"TotalCharges\", \"generated\": 0, \"position\": 20, \"type\": \"real\"}, {\"field\": \"Churn\", \"alias\": \"Churn\", \"generated\": 0, \"position\": 21, \"type\": \"String\"}, {\"field\": \"NewTotalCharges\", \"alias\": \"NewTotalCharges\", \"generated\": 1, \"position\": 22, \"type\": \"real\"}]}))\n",
    "\t#operationPostExecutionHook(datapreparation)\n",
    "\n",
    "except Exception as ex: \n",
    "\tlogging.error(ex)\n"
   ]
  },
  {
   "cell_type": "markdown",
   "id": "9fbfbdd5",
   "metadata": {},
   "source": [
    "***WRITING DATAFRAME***"
   ]
  },
  {
   "cell_type": "code",
   "execution_count": null,
   "id": "766d5d7c",
   "metadata": {},
   "outputs": [],
   "source": [
    "#%run telcochurndatatransformationHooks.ipynb\n",
    "try:\n",
    "\t#sinkPreExecutionHook()\n",
    "\n",
    "\ttelcochurnoutput = NumtraConnector.fetch(spark, \"{'samplefile': '/FileStore/platform/sampleData/65676672eb4b5c01f4137a17/part-00000-d5e60598-e456-4d08-81a0-159cec3c8ce5-c000.csv', 'samplecount': 30, 'originalcount': 30, 'orignalKey': '/FileStore/platform/testdata/1701275394466_Telco_Customer_Churn_TestL.csv', 'pathOnly': '/Retail And Marketing/Telco Churn', 'project_id': '6514163229e1b0f5334a66ed', 'parent_id': '6514163229e1b0f5334a66ed', 'original_schema': [{'checked': True, 'inherited': True, 'is_categorical': False, 'bad_values': '', 'nullable': 'true', 'field': 'customerID', 'alias': 'customerID', 'type': 'String', 'position': '0'}, {'checked': True, 'inherited': True, 'is_categorical': False, 'bad_values': '', 'nullable': 'true', 'field': 'gender', 'alias': 'gender', 'type': 'String', 'position': '1'}, {'checked': True, 'inherited': True, 'is_categorical': False, 'bad_values': '', 'nullable': 'true', 'field': 'SeniorCitizen', 'alias': 'SeniorCitizen', 'type': 'numeric', 'position': '2'}, {'checked': True, 'inherited': True, 'is_categorical': False, 'bad_values': '', 'nullable': 'true', 'field': 'Partner', 'alias': 'Partner', 'type': 'String', 'position': '3'}, {'checked': True, 'inherited': True, 'is_categorical': False, 'bad_values': '', 'nullable': 'true', 'field': 'Dependents', 'alias': 'Dependents', 'type': 'String', 'position': '4'}, {'checked': True, 'inherited': True, 'is_categorical': False, 'bad_values': '', 'nullable': 'true', 'field': 'tenure', 'alias': 'tenure', 'type': 'numeric', 'position': '5'}, {'checked': True, 'inherited': True, 'is_categorical': False, 'bad_values': '', 'nullable': 'true', 'field': 'PhoneService', 'alias': 'PhoneService', 'type': 'String', 'position': '6'}, {'checked': True, 'inherited': True, 'is_categorical': False, 'bad_values': '', 'nullable': 'true', 'field': 'MultipleLines', 'alias': 'MultipleLines', 'type': 'String', 'position': '7'}, {'checked': True, 'inherited': True, 'is_categorical': False, 'bad_values': '', 'nullable': 'true', 'field': 'InternetService', 'alias': 'InternetService', 'type': 'String', 'position': '8'}, {'checked': True, 'inherited': True, 'is_categorical': False, 'bad_values': '', 'nullable': 'true', 'field': 'OnlineSecurity', 'alias': 'OnlineSecurity', 'type': 'String', 'position': '9'}, {'checked': True, 'inherited': True, 'is_categorical': False, 'bad_values': '', 'nullable': 'true', 'field': 'OnlineBackup', 'alias': 'OnlineBackup', 'type': 'String', 'position': '10'}, {'checked': True, 'inherited': True, 'is_categorical': False, 'bad_values': '', 'nullable': 'true', 'field': 'DeviceProtection', 'alias': 'DeviceProtection', 'type': 'String', 'position': '11'}, {'checked': True, 'inherited': True, 'is_categorical': False, 'bad_values': '', 'nullable': 'true', 'field': 'TechSupport', 'alias': 'TechSupport', 'type': 'String', 'position': '12'}, {'checked': True, 'inherited': True, 'is_categorical': False, 'bad_values': '', 'nullable': 'true', 'field': 'StreamingTV', 'alias': 'StreamingTV', 'type': 'String', 'position': '13'}, {'checked': True, 'inherited': True, 'is_categorical': False, 'bad_values': '', 'nullable': 'true', 'field': 'StreamingMovies', 'alias': 'StreamingMovies', 'type': 'String', 'position': '14'}, {'checked': True, 'inherited': True, 'is_categorical': False, 'bad_values': '', 'nullable': 'true', 'field': 'Contract', 'alias': 'Contract', 'type': 'String', 'position': '15'}, {'checked': True, 'inherited': True, 'is_categorical': False, 'bad_values': '', 'nullable': 'true', 'field': 'PaperlessBilling', 'alias': 'PaperlessBilling', 'type': 'String', 'position': '16'}, {'checked': True, 'inherited': True, 'is_categorical': False, 'bad_values': '', 'nullable': 'true', 'field': 'PaymentMethod', 'alias': 'PaymentMethod', 'type': 'String', 'position': '17'}, {'checked': True, 'inherited': True, 'is_categorical': False, 'bad_values': '', 'nullable': 'true', 'field': 'MonthlyCharges', 'alias': 'MonthlyCharges', 'type': 'real', 'position': '18'}, {'checked': True, 'inherited': True, 'is_categorical': False, 'bad_values': '', 'nullable': 'true', 'field': 'TotalCharges', 'alias': 'TotalCharges', 'type': 'real', 'position': '19'}, {'checked': True, 'inherited': True, 'is_categorical': False, 'bad_values': '', 'nullable': 'true', 'field': 'Churn', 'alias': 'Churn', 'type': 'String', 'position': '20'}, {'checked': True, 'inherited': True, 'is_categorical': False, 'bad_values': '', 'nullable': 'true', 'field': 'NewTotalCharges', 'alias': 'NewTotalCharges', 'type': 'real', 'position': '22'}], 'actual_schema': [{'checked': True, 'inherited': True, 'is_categorical': False, 'bad_values': '', 'nullable': 'true', 'field': 'customerID', 'alias': 'customerID', 'type': 'String', 'position': '0'}, {'checked': True, 'inherited': True, 'is_categorical': False, 'bad_values': '', 'nullable': 'true', 'field': 'gender', 'alias': 'gender', 'type': 'String', 'position': '1'}, {'checked': True, 'inherited': True, 'is_categorical': False, 'bad_values': '', 'nullable': 'true', 'field': 'SeniorCitizen', 'alias': 'SeniorCitizen', 'type': 'numeric', 'position': '2'}, {'checked': True, 'inherited': True, 'is_categorical': False, 'bad_values': '', 'nullable': 'true', 'field': 'Partner', 'alias': 'Partner', 'type': 'String', 'position': '3'}, {'checked': True, 'inherited': True, 'is_categorical': False, 'bad_values': '', 'nullable': 'true', 'field': 'Dependents', 'alias': 'Dependents', 'type': 'String', 'position': '4'}, {'checked': True, 'inherited': True, 'is_categorical': False, 'bad_values': '', 'nullable': 'true', 'field': 'tenure', 'alias': 'tenure', 'type': 'numeric', 'position': '5'}, {'checked': True, 'inherited': True, 'is_categorical': False, 'bad_values': '', 'nullable': 'true', 'field': 'PhoneService', 'alias': 'PhoneService', 'type': 'String', 'position': '6'}, {'checked': True, 'inherited': True, 'is_categorical': False, 'bad_values': '', 'nullable': 'true', 'field': 'MultipleLines', 'alias': 'MultipleLines', 'type': 'String', 'position': '7'}, {'checked': True, 'inherited': True, 'is_categorical': False, 'bad_values': '', 'nullable': 'true', 'field': 'InternetService', 'alias': 'InternetService', 'type': 'String', 'position': '8'}, {'checked': True, 'inherited': True, 'is_categorical': False, 'bad_values': '', 'nullable': 'true', 'field': 'OnlineSecurity', 'alias': 'OnlineSecurity', 'type': 'String', 'position': '9'}, {'checked': True, 'inherited': True, 'is_categorical': False, 'bad_values': '', 'nullable': 'true', 'field': 'OnlineBackup', 'alias': 'OnlineBackup', 'type': 'String', 'position': '10'}, {'checked': True, 'inherited': True, 'is_categorical': False, 'bad_values': '', 'nullable': 'true', 'field': 'DeviceProtection', 'alias': 'DeviceProtection', 'type': 'String', 'position': '11'}, {'checked': True, 'inherited': True, 'is_categorical': False, 'bad_values': '', 'nullable': 'true', 'field': 'TechSupport', 'alias': 'TechSupport', 'type': 'String', 'position': '12'}, {'checked': True, 'inherited': True, 'is_categorical': False, 'bad_values': '', 'nullable': 'true', 'field': 'StreamingTV', 'alias': 'StreamingTV', 'type': 'String', 'position': '13'}, {'checked': True, 'inherited': True, 'is_categorical': False, 'bad_values': '', 'nullable': 'true', 'field': 'StreamingMovies', 'alias': 'StreamingMovies', 'type': 'String', 'position': '14'}, {'checked': True, 'inherited': True, 'is_categorical': False, 'bad_values': '', 'nullable': 'true', 'field': 'Contract', 'alias': 'Contract', 'type': 'String', 'position': '15'}, {'checked': True, 'inherited': True, 'is_categorical': False, 'bad_values': '', 'nullable': 'true', 'field': 'PaperlessBilling', 'alias': 'PaperlessBilling', 'type': 'String', 'position': '16'}, {'checked': True, 'inherited': True, 'is_categorical': False, 'bad_values': '', 'nullable': 'true', 'field': 'PaymentMethod', 'alias': 'PaymentMethod', 'type': 'String', 'position': '17'}, {'checked': True, 'inherited': True, 'is_categorical': False, 'bad_values': '', 'nullable': 'true', 'field': 'MonthlyCharges', 'alias': 'MonthlyCharges', 'type': 'real', 'position': '18'}, {'checked': True, 'inherited': True, 'is_categorical': False, 'bad_values': '', 'nullable': 'true', 'field': 'TotalCharges', 'alias': 'TotalCharges', 'type': 'real', 'position': '19'}, {'checked': True, 'inherited': True, 'is_categorical': False, 'bad_values': '', 'nullable': 'true', 'field': 'Churn', 'alias': 'Churn', 'type': 'String', 'position': '20'}], 'server': 'https://mluat.numtra.com:443', 'server_url': '/numtraPlatform/NumtraPlatformV3/uploads/platform/', 'delimiter': ',', 'file_type': 'Delimeted', 'filename': 'TelcoChurnTransformed.csv', 'token': '', 'domain': '', 'is_header': 'Use Header Line', 'url': '/FileStore/platform/uploadedSourceFiles/part-00000-2eff9f5f-1836-4c8e-9785-6ed28d3a889e-c000.csv', 'results_url': 'http://mluat.numtra.com:44040/api/read/hdfs'}\")\n",
    "\n",
    "except Exception as ex: \n",
    "\tlogging.error(ex)\n"
   ]
  }
 ],
 "metadata": {},
 "nbformat": 4,
 "nbformat_minor": 5
}
